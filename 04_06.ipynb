{
 "cells": [
  {
   "cell_type": "markdown",
   "metadata": {},
   "source": [
    "## Boosting: Implement a boosting model\n",
    "\n",
    "Using the Titanic dataset from [this](https://www.kaggle.com/c/titanic/overview) Kaggle competition.\n",
    "\n",
    "In this section, we will fit and evaluate a simple Gradient Boosting model."
   ]
  },
  {
   "cell_type": "markdown",
   "metadata": {},
   "source": [
    "### Read in Data"
   ]
  },
  {
   "cell_type": "code",
   "execution_count": 9,
   "metadata": {},
   "outputs": [],
   "source": [
    "import joblib\n",
    "import pandas as pd\n",
    "from sklearn.ensemble import GradientBoostingClassifier\n",
    "from sklearn.model_selection import GridSearchCV\n",
    "\n",
    "tr_features = pd.read_csv('../../../train_features.csv')\n",
    "tr_labels = pd.read_csv('../../../train_labels.csv')"
   ]
  },
  {
   "cell_type": "markdown",
   "metadata": {},
   "source": [
    "### Hyperparameter tuning"
   ]
  },
  {
   "cell_type": "code",
   "execution_count": 10,
   "metadata": {},
   "outputs": [],
   "source": [
    "def print_results(results):\n",
    "    print('BEST PARAMS: {}\\n'.format(results.best_params_))\n",
    "\n",
    "    means = results.cv_results_['mean_test_score']\n",
    "    stds = results.cv_results_['std_test_score']\n",
    "    for mean, std, params in zip(means, stds, results.cv_results_['params']):\n",
    "        print('{} (+/-{}) for {}'.format(round(mean, 3), round(std * 2, 3), params))"
   ]
  },
  {
   "cell_type": "code",
   "execution_count": 11,
   "metadata": {},
   "outputs": [
    {
     "data": {
      "text/html": [
       "<style>#sk-container-id-3 {color: black;}#sk-container-id-3 pre{padding: 0;}#sk-container-id-3 div.sk-toggleable {background-color: white;}#sk-container-id-3 label.sk-toggleable__label {cursor: pointer;display: block;width: 100%;margin-bottom: 0;padding: 0.3em;box-sizing: border-box;text-align: center;}#sk-container-id-3 label.sk-toggleable__label-arrow:before {content: \"▸\";float: left;margin-right: 0.25em;color: #696969;}#sk-container-id-3 label.sk-toggleable__label-arrow:hover:before {color: black;}#sk-container-id-3 div.sk-estimator:hover label.sk-toggleable__label-arrow:before {color: black;}#sk-container-id-3 div.sk-toggleable__content {max-height: 0;max-width: 0;overflow: hidden;text-align: left;background-color: #f0f8ff;}#sk-container-id-3 div.sk-toggleable__content pre {margin: 0.2em;color: black;border-radius: 0.25em;background-color: #f0f8ff;}#sk-container-id-3 input.sk-toggleable__control:checked~div.sk-toggleable__content {max-height: 200px;max-width: 100%;overflow: auto;}#sk-container-id-3 input.sk-toggleable__control:checked~label.sk-toggleable__label-arrow:before {content: \"▾\";}#sk-container-id-3 div.sk-estimator input.sk-toggleable__control:checked~label.sk-toggleable__label {background-color: #d4ebff;}#sk-container-id-3 div.sk-label input.sk-toggleable__control:checked~label.sk-toggleable__label {background-color: #d4ebff;}#sk-container-id-3 input.sk-hidden--visually {border: 0;clip: rect(1px 1px 1px 1px);clip: rect(1px, 1px, 1px, 1px);height: 1px;margin: -1px;overflow: hidden;padding: 0;position: absolute;width: 1px;}#sk-container-id-3 div.sk-estimator {font-family: monospace;background-color: #f0f8ff;border: 1px dotted black;border-radius: 0.25em;box-sizing: border-box;margin-bottom: 0.5em;}#sk-container-id-3 div.sk-estimator:hover {background-color: #d4ebff;}#sk-container-id-3 div.sk-parallel-item::after {content: \"\";width: 100%;border-bottom: 1px solid gray;flex-grow: 1;}#sk-container-id-3 div.sk-label:hover label.sk-toggleable__label {background-color: #d4ebff;}#sk-container-id-3 div.sk-serial::before {content: \"\";position: absolute;border-left: 1px solid gray;box-sizing: border-box;top: 0;bottom: 0;left: 50%;z-index: 0;}#sk-container-id-3 div.sk-serial {display: flex;flex-direction: column;align-items: center;background-color: white;padding-right: 0.2em;padding-left: 0.2em;position: relative;}#sk-container-id-3 div.sk-item {position: relative;z-index: 1;}#sk-container-id-3 div.sk-parallel {display: flex;align-items: stretch;justify-content: center;background-color: white;position: relative;}#sk-container-id-3 div.sk-item::before, #sk-container-id-3 div.sk-parallel-item::before {content: \"\";position: absolute;border-left: 1px solid gray;box-sizing: border-box;top: 0;bottom: 0;left: 50%;z-index: -1;}#sk-container-id-3 div.sk-parallel-item {display: flex;flex-direction: column;z-index: 1;position: relative;background-color: white;}#sk-container-id-3 div.sk-parallel-item:first-child::after {align-self: flex-end;width: 50%;}#sk-container-id-3 div.sk-parallel-item:last-child::after {align-self: flex-start;width: 50%;}#sk-container-id-3 div.sk-parallel-item:only-child::after {width: 0;}#sk-container-id-3 div.sk-dashed-wrapped {border: 1px dashed gray;margin: 0 0.4em 0.5em 0.4em;box-sizing: border-box;padding-bottom: 0.4em;background-color: white;}#sk-container-id-3 div.sk-label label {font-family: monospace;font-weight: bold;display: inline-block;line-height: 1.2em;}#sk-container-id-3 div.sk-label-container {text-align: center;}#sk-container-id-3 div.sk-container {/* jupyter's `normalize.less` sets `[hidden] { display: none; }` but bootstrap.min.css set `[hidden] { display: none !important; }` so we also need the `!important` here to be able to override the default hidden behavior on the sphinx rendered scikit-learn.org. See: https://github.com/scikit-learn/scikit-learn/issues/21755 */display: inline-block !important;position: relative;}#sk-container-id-3 div.sk-text-repr-fallback {display: none;}</style><div id=\"sk-container-id-3\" class=\"sk-top-container\"><div class=\"sk-text-repr-fallback\"><pre>GridSearchCV(cv=5, estimator=GradientBoostingClassifier(),\n",
       "             param_grid={&#x27;learning_rate&#x27;: [0.01, 0.1, 1, 10, 100],\n",
       "                         &#x27;max_depth&#x27;: [1, 3, 5, 7, 9],\n",
       "                         &#x27;n_estimators&#x27;: [5, 50, 250, 500]})</pre><b>In a Jupyter environment, please rerun this cell to show the HTML representation or trust the notebook. <br />On GitHub, the HTML representation is unable to render, please try loading this page with nbviewer.org.</b></div><div class=\"sk-container\" hidden><div class=\"sk-item sk-dashed-wrapped\"><div class=\"sk-label-container\"><div class=\"sk-label sk-toggleable\"><input class=\"sk-toggleable__control sk-hidden--visually\" id=\"sk-estimator-id-5\" type=\"checkbox\" ><label for=\"sk-estimator-id-5\" class=\"sk-toggleable__label sk-toggleable__label-arrow\">GridSearchCV</label><div class=\"sk-toggleable__content\"><pre>GridSearchCV(cv=5, estimator=GradientBoostingClassifier(),\n",
       "             param_grid={&#x27;learning_rate&#x27;: [0.01, 0.1, 1, 10, 100],\n",
       "                         &#x27;max_depth&#x27;: [1, 3, 5, 7, 9],\n",
       "                         &#x27;n_estimators&#x27;: [5, 50, 250, 500]})</pre></div></div></div><div class=\"sk-parallel\"><div class=\"sk-parallel-item\"><div class=\"sk-item\"><div class=\"sk-label-container\"><div class=\"sk-label sk-toggleable\"><input class=\"sk-toggleable__control sk-hidden--visually\" id=\"sk-estimator-id-6\" type=\"checkbox\" ><label for=\"sk-estimator-id-6\" class=\"sk-toggleable__label sk-toggleable__label-arrow\">estimator: GradientBoostingClassifier</label><div class=\"sk-toggleable__content\"><pre>GradientBoostingClassifier()</pre></div></div></div><div class=\"sk-serial\"><div class=\"sk-item\"><div class=\"sk-estimator sk-toggleable\"><input class=\"sk-toggleable__control sk-hidden--visually\" id=\"sk-estimator-id-7\" type=\"checkbox\" ><label for=\"sk-estimator-id-7\" class=\"sk-toggleable__label sk-toggleable__label-arrow\">GradientBoostingClassifier</label><div class=\"sk-toggleable__content\"><pre>GradientBoostingClassifier()</pre></div></div></div></div></div></div></div></div></div></div>"
      ],
      "text/plain": [
       "GridSearchCV(cv=5, estimator=GradientBoostingClassifier(),\n",
       "             param_grid={'learning_rate': [0.01, 0.1, 1, 10, 100],\n",
       "                         'max_depth': [1, 3, 5, 7, 9],\n",
       "                         'n_estimators': [5, 50, 250, 500]})"
      ]
     },
     "execution_count": 11,
     "metadata": {},
     "output_type": "execute_result"
    }
   ],
   "source": [
    "gb = GradientBoostingClassifier()\n",
    "parameters = {\n",
    "    'n_estimators': [5, 50, 250, 500],\n",
    "    'max_depth': [1, 3, 5, 7, 9],\n",
    "    'learning_rate': [0.01, 0.1, 1, 10, 100]\n",
    "}\n",
    "\n",
    "# 5 folds\n",
    "cv = GridSearchCV(gb, parameters, cv = 5)\n",
    "\n",
    "# ravel() helps to convert column values into array\n",
    "cv.fit(tr_features, tr_labels.values.ravel())"
   ]
  },
  {
   "cell_type": "code",
   "execution_count": 12,
   "metadata": {},
   "outputs": [
    {
     "name": "stdout",
     "output_type": "stream",
     "text": [
      "BEST PARAMS: {'learning_rate': 0.01, 'max_depth': 3, 'n_estimators': 500}\n",
      "\n",
      "0.624 (+/-0.007) for {'learning_rate': 0.01, 'max_depth': 1, 'n_estimators': 5}\n",
      "0.796 (+/-0.115) for {'learning_rate': 0.01, 'max_depth': 1, 'n_estimators': 50}\n",
      "0.796 (+/-0.115) for {'learning_rate': 0.01, 'max_depth': 1, 'n_estimators': 250}\n",
      "0.811 (+/-0.117) for {'learning_rate': 0.01, 'max_depth': 1, 'n_estimators': 500}\n",
      "0.624 (+/-0.007) for {'learning_rate': 0.01, 'max_depth': 3, 'n_estimators': 5}\n",
      "0.811 (+/-0.069) for {'learning_rate': 0.01, 'max_depth': 3, 'n_estimators': 50}\n",
      "0.824 (+/-0.086) for {'learning_rate': 0.01, 'max_depth': 3, 'n_estimators': 250}\n",
      "0.826 (+/-0.079) for {'learning_rate': 0.01, 'max_depth': 3, 'n_estimators': 500}\n",
      "0.624 (+/-0.007) for {'learning_rate': 0.01, 'max_depth': 5, 'n_estimators': 5}\n",
      "0.809 (+/-0.046) for {'learning_rate': 0.01, 'max_depth': 5, 'n_estimators': 50}\n",
      "0.82 (+/-0.058) for {'learning_rate': 0.01, 'max_depth': 5, 'n_estimators': 250}\n",
      "0.816 (+/-0.042) for {'learning_rate': 0.01, 'max_depth': 5, 'n_estimators': 500}\n",
      "0.624 (+/-0.007) for {'learning_rate': 0.01, 'max_depth': 7, 'n_estimators': 5}\n",
      "0.815 (+/-0.05) for {'learning_rate': 0.01, 'max_depth': 7, 'n_estimators': 50}\n",
      "0.805 (+/-0.025) for {'learning_rate': 0.01, 'max_depth': 7, 'n_estimators': 250}\n",
      "0.798 (+/-0.019) for {'learning_rate': 0.01, 'max_depth': 7, 'n_estimators': 500}\n",
      "0.624 (+/-0.007) for {'learning_rate': 0.01, 'max_depth': 9, 'n_estimators': 5}\n",
      "0.794 (+/-0.048) for {'learning_rate': 0.01, 'max_depth': 9, 'n_estimators': 50}\n",
      "0.787 (+/-0.036) for {'learning_rate': 0.01, 'max_depth': 9, 'n_estimators': 250}\n",
      "0.777 (+/-0.021) for {'learning_rate': 0.01, 'max_depth': 9, 'n_estimators': 500}\n",
      "0.796 (+/-0.115) for {'learning_rate': 0.1, 'max_depth': 1, 'n_estimators': 5}\n",
      "0.815 (+/-0.119) for {'learning_rate': 0.1, 'max_depth': 1, 'n_estimators': 50}\n",
      "0.818 (+/-0.109) for {'learning_rate': 0.1, 'max_depth': 1, 'n_estimators': 250}\n",
      "0.818 (+/-0.118) for {'learning_rate': 0.1, 'max_depth': 1, 'n_estimators': 500}\n",
      "0.813 (+/-0.071) for {'learning_rate': 0.1, 'max_depth': 3, 'n_estimators': 5}\n",
      "0.822 (+/-0.072) for {'learning_rate': 0.1, 'max_depth': 3, 'n_estimators': 50}\n",
      "0.805 (+/-0.031) for {'learning_rate': 0.1, 'max_depth': 3, 'n_estimators': 250}\n",
      "0.785 (+/-0.047) for {'learning_rate': 0.1, 'max_depth': 3, 'n_estimators': 500}\n",
      "0.811 (+/-0.061) for {'learning_rate': 0.1, 'max_depth': 5, 'n_estimators': 5}\n",
      "0.815 (+/-0.047) for {'learning_rate': 0.1, 'max_depth': 5, 'n_estimators': 50}\n",
      "0.796 (+/-0.046) for {'learning_rate': 0.1, 'max_depth': 5, 'n_estimators': 250}\n",
      "0.796 (+/-0.047) for {'learning_rate': 0.1, 'max_depth': 5, 'n_estimators': 500}\n",
      "0.811 (+/-0.054) for {'learning_rate': 0.1, 'max_depth': 7, 'n_estimators': 5}\n",
      "0.794 (+/-0.016) for {'learning_rate': 0.1, 'max_depth': 7, 'n_estimators': 50}\n",
      "0.811 (+/-0.036) for {'learning_rate': 0.1, 'max_depth': 7, 'n_estimators': 250}\n",
      "0.796 (+/-0.041) for {'learning_rate': 0.1, 'max_depth': 7, 'n_estimators': 500}\n",
      "0.796 (+/-0.041) for {'learning_rate': 0.1, 'max_depth': 9, 'n_estimators': 5}\n",
      "0.794 (+/-0.033) for {'learning_rate': 0.1, 'max_depth': 9, 'n_estimators': 50}\n",
      "0.798 (+/-0.054) for {'learning_rate': 0.1, 'max_depth': 9, 'n_estimators': 250}\n",
      "0.796 (+/-0.039) for {'learning_rate': 0.1, 'max_depth': 9, 'n_estimators': 500}\n",
      "0.818 (+/-0.099) for {'learning_rate': 1, 'max_depth': 1, 'n_estimators': 5}\n",
      "0.818 (+/-0.114) for {'learning_rate': 1, 'max_depth': 1, 'n_estimators': 50}\n",
      "0.815 (+/-0.069) for {'learning_rate': 1, 'max_depth': 1, 'n_estimators': 250}\n",
      "0.79 (+/-0.08) for {'learning_rate': 1, 'max_depth': 1, 'n_estimators': 500}\n",
      "0.813 (+/-0.065) for {'learning_rate': 1, 'max_depth': 3, 'n_estimators': 5}\n",
      "0.781 (+/-0.065) for {'learning_rate': 1, 'max_depth': 3, 'n_estimators': 50}\n",
      "0.8 (+/-0.043) for {'learning_rate': 1, 'max_depth': 3, 'n_estimators': 250}\n",
      "0.802 (+/-0.044) for {'learning_rate': 1, 'max_depth': 3, 'n_estimators': 500}\n",
      "0.781 (+/-0.04) for {'learning_rate': 1, 'max_depth': 5, 'n_estimators': 5}\n",
      "0.794 (+/-0.062) for {'learning_rate': 1, 'max_depth': 5, 'n_estimators': 50}\n",
      "0.801 (+/-0.047) for {'learning_rate': 1, 'max_depth': 5, 'n_estimators': 250}\n",
      "0.811 (+/-0.058) for {'learning_rate': 1, 'max_depth': 5, 'n_estimators': 500}\n",
      "0.775 (+/-0.045) for {'learning_rate': 1, 'max_depth': 7, 'n_estimators': 5}\n",
      "0.788 (+/-0.046) for {'learning_rate': 1, 'max_depth': 7, 'n_estimators': 50}\n",
      "0.785 (+/-0.058) for {'learning_rate': 1, 'max_depth': 7, 'n_estimators': 250}\n",
      "0.794 (+/-0.048) for {'learning_rate': 1, 'max_depth': 7, 'n_estimators': 500}\n",
      "0.77 (+/-0.028) for {'learning_rate': 1, 'max_depth': 9, 'n_estimators': 5}\n",
      "0.787 (+/-0.048) for {'learning_rate': 1, 'max_depth': 9, 'n_estimators': 50}\n",
      "0.807 (+/-0.018) for {'learning_rate': 1, 'max_depth': 9, 'n_estimators': 250}\n",
      "0.8 (+/-0.041) for {'learning_rate': 1, 'max_depth': 9, 'n_estimators': 500}\n",
      "0.204 (+/-0.115) for {'learning_rate': 10, 'max_depth': 1, 'n_estimators': 5}\n",
      "0.204 (+/-0.115) for {'learning_rate': 10, 'max_depth': 1, 'n_estimators': 50}\n",
      "0.204 (+/-0.115) for {'learning_rate': 10, 'max_depth': 1, 'n_estimators': 250}\n",
      "0.204 (+/-0.115) for {'learning_rate': 10, 'max_depth': 1, 'n_estimators': 500}\n",
      "0.369 (+/-0.374) for {'learning_rate': 10, 'max_depth': 3, 'n_estimators': 5}\n",
      "0.369 (+/-0.374) for {'learning_rate': 10, 'max_depth': 3, 'n_estimators': 50}\n",
      "0.369 (+/-0.374) for {'learning_rate': 10, 'max_depth': 3, 'n_estimators': 250}\n",
      "0.369 (+/-0.374) for {'learning_rate': 10, 'max_depth': 3, 'n_estimators': 500}\n",
      "0.487 (+/-0.158) for {'learning_rate': 10, 'max_depth': 5, 'n_estimators': 5}\n",
      "0.494 (+/-0.138) for {'learning_rate': 10, 'max_depth': 5, 'n_estimators': 50}\n",
      "0.494 (+/-0.128) for {'learning_rate': 10, 'max_depth': 5, 'n_estimators': 250}\n",
      "0.502 (+/-0.128) for {'learning_rate': 10, 'max_depth': 5, 'n_estimators': 500}\n",
      "0.608 (+/-0.179) for {'learning_rate': 10, 'max_depth': 7, 'n_estimators': 5}\n",
      "0.601 (+/-0.207) for {'learning_rate': 10, 'max_depth': 7, 'n_estimators': 50}\n",
      "0.607 (+/-0.198) for {'learning_rate': 10, 'max_depth': 7, 'n_estimators': 250}\n",
      "0.593 (+/-0.201) for {'learning_rate': 10, 'max_depth': 7, 'n_estimators': 500}\n",
      "0.71 (+/-0.122) for {'learning_rate': 10, 'max_depth': 9, 'n_estimators': 5}\n",
      "0.712 (+/-0.143) for {'learning_rate': 10, 'max_depth': 9, 'n_estimators': 50}\n",
      "0.723 (+/-0.12) for {'learning_rate': 10, 'max_depth': 9, 'n_estimators': 250}\n",
      "0.691 (+/-0.144) for {'learning_rate': 10, 'max_depth': 9, 'n_estimators': 500}\n",
      "0.376 (+/-0.007) for {'learning_rate': 100, 'max_depth': 1, 'n_estimators': 5}\n",
      "0.376 (+/-0.007) for {'learning_rate': 100, 'max_depth': 1, 'n_estimators': 50}\n",
      "0.376 (+/-0.007) for {'learning_rate': 100, 'max_depth': 1, 'n_estimators': 250}\n",
      "0.376 (+/-0.007) for {'learning_rate': 100, 'max_depth': 1, 'n_estimators': 500}\n",
      "0.281 (+/-0.118) for {'learning_rate': 100, 'max_depth': 3, 'n_estimators': 5}\n",
      "0.281 (+/-0.118) for {'learning_rate': 100, 'max_depth': 3, 'n_estimators': 50}\n",
      "0.281 (+/-0.118) for {'learning_rate': 100, 'max_depth': 3, 'n_estimators': 250}\n",
      "0.281 (+/-0.118) for {'learning_rate': 100, 'max_depth': 3, 'n_estimators': 500}\n",
      "0.466 (+/-0.169) for {'learning_rate': 100, 'max_depth': 5, 'n_estimators': 5}\n",
      "0.459 (+/-0.153) for {'learning_rate': 100, 'max_depth': 5, 'n_estimators': 50}\n",
      "0.462 (+/-0.179) for {'learning_rate': 100, 'max_depth': 5, 'n_estimators': 250}\n",
      "0.466 (+/-0.169) for {'learning_rate': 100, 'max_depth': 5, 'n_estimators': 500}\n",
      "0.578 (+/-0.204) for {'learning_rate': 100, 'max_depth': 7, 'n_estimators': 5}\n",
      "0.597 (+/-0.142) for {'learning_rate': 100, 'max_depth': 7, 'n_estimators': 50}\n",
      "0.556 (+/-0.129) for {'learning_rate': 100, 'max_depth': 7, 'n_estimators': 250}\n",
      "0.545 (+/-0.153) for {'learning_rate': 100, 'max_depth': 7, 'n_estimators': 500}\n",
      "0.627 (+/-0.107) for {'learning_rate': 100, 'max_depth': 9, 'n_estimators': 5}\n",
      "0.631 (+/-0.131) for {'learning_rate': 100, 'max_depth': 9, 'n_estimators': 50}\n",
      "0.596 (+/-0.099) for {'learning_rate': 100, 'max_depth': 9, 'n_estimators': 250}\n",
      "0.642 (+/-0.112) for {'learning_rate': 100, 'max_depth': 9, 'n_estimators': 500}\n"
     ]
    }
   ],
   "source": [
    "print_results(cv)"
   ]
  },
  {
   "cell_type": "code",
   "execution_count": 13,
   "metadata": {},
   "outputs": [
    {
     "data": {
      "text/html": [
       "<style>#sk-container-id-4 {color: black;}#sk-container-id-4 pre{padding: 0;}#sk-container-id-4 div.sk-toggleable {background-color: white;}#sk-container-id-4 label.sk-toggleable__label {cursor: pointer;display: block;width: 100%;margin-bottom: 0;padding: 0.3em;box-sizing: border-box;text-align: center;}#sk-container-id-4 label.sk-toggleable__label-arrow:before {content: \"▸\";float: left;margin-right: 0.25em;color: #696969;}#sk-container-id-4 label.sk-toggleable__label-arrow:hover:before {color: black;}#sk-container-id-4 div.sk-estimator:hover label.sk-toggleable__label-arrow:before {color: black;}#sk-container-id-4 div.sk-toggleable__content {max-height: 0;max-width: 0;overflow: hidden;text-align: left;background-color: #f0f8ff;}#sk-container-id-4 div.sk-toggleable__content pre {margin: 0.2em;color: black;border-radius: 0.25em;background-color: #f0f8ff;}#sk-container-id-4 input.sk-toggleable__control:checked~div.sk-toggleable__content {max-height: 200px;max-width: 100%;overflow: auto;}#sk-container-id-4 input.sk-toggleable__control:checked~label.sk-toggleable__label-arrow:before {content: \"▾\";}#sk-container-id-4 div.sk-estimator input.sk-toggleable__control:checked~label.sk-toggleable__label {background-color: #d4ebff;}#sk-container-id-4 div.sk-label input.sk-toggleable__control:checked~label.sk-toggleable__label {background-color: #d4ebff;}#sk-container-id-4 input.sk-hidden--visually {border: 0;clip: rect(1px 1px 1px 1px);clip: rect(1px, 1px, 1px, 1px);height: 1px;margin: -1px;overflow: hidden;padding: 0;position: absolute;width: 1px;}#sk-container-id-4 div.sk-estimator {font-family: monospace;background-color: #f0f8ff;border: 1px dotted black;border-radius: 0.25em;box-sizing: border-box;margin-bottom: 0.5em;}#sk-container-id-4 div.sk-estimator:hover {background-color: #d4ebff;}#sk-container-id-4 div.sk-parallel-item::after {content: \"\";width: 100%;border-bottom: 1px solid gray;flex-grow: 1;}#sk-container-id-4 div.sk-label:hover label.sk-toggleable__label {background-color: #d4ebff;}#sk-container-id-4 div.sk-serial::before {content: \"\";position: absolute;border-left: 1px solid gray;box-sizing: border-box;top: 0;bottom: 0;left: 50%;z-index: 0;}#sk-container-id-4 div.sk-serial {display: flex;flex-direction: column;align-items: center;background-color: white;padding-right: 0.2em;padding-left: 0.2em;position: relative;}#sk-container-id-4 div.sk-item {position: relative;z-index: 1;}#sk-container-id-4 div.sk-parallel {display: flex;align-items: stretch;justify-content: center;background-color: white;position: relative;}#sk-container-id-4 div.sk-item::before, #sk-container-id-4 div.sk-parallel-item::before {content: \"\";position: absolute;border-left: 1px solid gray;box-sizing: border-box;top: 0;bottom: 0;left: 50%;z-index: -1;}#sk-container-id-4 div.sk-parallel-item {display: flex;flex-direction: column;z-index: 1;position: relative;background-color: white;}#sk-container-id-4 div.sk-parallel-item:first-child::after {align-self: flex-end;width: 50%;}#sk-container-id-4 div.sk-parallel-item:last-child::after {align-self: flex-start;width: 50%;}#sk-container-id-4 div.sk-parallel-item:only-child::after {width: 0;}#sk-container-id-4 div.sk-dashed-wrapped {border: 1px dashed gray;margin: 0 0.4em 0.5em 0.4em;box-sizing: border-box;padding-bottom: 0.4em;background-color: white;}#sk-container-id-4 div.sk-label label {font-family: monospace;font-weight: bold;display: inline-block;line-height: 1.2em;}#sk-container-id-4 div.sk-label-container {text-align: center;}#sk-container-id-4 div.sk-container {/* jupyter's `normalize.less` sets `[hidden] { display: none; }` but bootstrap.min.css set `[hidden] { display: none !important; }` so we also need the `!important` here to be able to override the default hidden behavior on the sphinx rendered scikit-learn.org. See: https://github.com/scikit-learn/scikit-learn/issues/21755 */display: inline-block !important;position: relative;}#sk-container-id-4 div.sk-text-repr-fallback {display: none;}</style><div id=\"sk-container-id-4\" class=\"sk-top-container\"><div class=\"sk-text-repr-fallback\"><pre>GradientBoostingClassifier(learning_rate=0.01, n_estimators=500)</pre><b>In a Jupyter environment, please rerun this cell to show the HTML representation or trust the notebook. <br />On GitHub, the HTML representation is unable to render, please try loading this page with nbviewer.org.</b></div><div class=\"sk-container\" hidden><div class=\"sk-item\"><div class=\"sk-estimator sk-toggleable\"><input class=\"sk-toggleable__control sk-hidden--visually\" id=\"sk-estimator-id-8\" type=\"checkbox\" checked><label for=\"sk-estimator-id-8\" class=\"sk-toggleable__label sk-toggleable__label-arrow\">GradientBoostingClassifier</label><div class=\"sk-toggleable__content\"><pre>GradientBoostingClassifier(learning_rate=0.01, n_estimators=500)</pre></div></div></div></div></div>"
      ],
      "text/plain": [
       "GradientBoostingClassifier(learning_rate=0.01, n_estimators=500)"
      ]
     },
     "execution_count": 13,
     "metadata": {},
     "output_type": "execute_result"
    }
   ],
   "source": [
    "cv.best_estimator_"
   ]
  },
  {
   "cell_type": "markdown",
   "metadata": {},
   "source": [
    "### Write out pickled model"
   ]
  },
  {
   "cell_type": "code",
   "execution_count": 14,
   "metadata": {},
   "outputs": [
    {
     "ename": "SyntaxError",
     "evalue": "unterminated string literal (detected at line 1) (751617829.py, line 1)",
     "output_type": "error",
     "traceback": [
      "\u001b[1;36m  Cell \u001b[1;32mIn[14], line 1\u001b[1;36m\u001b[0m\n\u001b[1;33m    joblib.dump(cv.best_estimator_, ''../../../models/GB_model.pkl')\u001b[0m\n\u001b[1;37m                                                                  ^\u001b[0m\n\u001b[1;31mSyntaxError\u001b[0m\u001b[1;31m:\u001b[0m unterminated string literal (detected at line 1)\n"
     ]
    }
   ],
   "source": [
    "joblib.dump(cv.best_estimator_, ''../../../models/GB_model.pkl')"
   ]
  }
 ],
 "metadata": {
  "kernelspec": {
   "display_name": "Python 3 (ipykernel)",
   "language": "python",
   "name": "python3"
  },
  "language_info": {
   "codemirror_mode": {
    "name": "ipython",
    "version": 3
   },
   "file_extension": ".py",
   "mimetype": "text/x-python",
   "name": "python",
   "nbconvert_exporter": "python",
   "pygments_lexer": "ipython3",
   "version": "3.11.5"
  }
 },
 "nbformat": 4,
 "nbformat_minor": 2
}
